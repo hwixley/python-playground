{
 "cells": [
  {
   "cell_type": "code",
   "execution_count": 2,
   "metadata": {},
   "outputs": [],
   "source": [
    "import numpy as np"
   ]
  },
  {
   "cell_type": "code",
   "execution_count": 3,
   "metadata": {},
   "outputs": [],
   "source": [
    "class ApiService:\n",
    "\n",
    "    def __init__(self, key):\n",
    "        self.key = key\n",
    "\n",
    "    def get_scopes(self, id: str):\n",
    "        return (np.random.rand(), np.random.rand())"
   ]
  },
  {
   "cell_type": "code",
   "execution_count": 7,
   "metadata": {},
   "outputs": [
    {
     "data": {
      "text/plain": [
       "0.8742881796969906"
      ]
     },
     "execution_count": 7,
     "metadata": {},
     "output_type": "execute_result"
    }
   ],
   "source": [
    "api = ApiService(\"key\")\n",
    "sum(api.get_scopes(\"123\"))"
   ]
  },
  {
   "cell_type": "code",
   "execution_count": null,
   "metadata": {},
   "outputs": [],
   "source": [
    "class ScopeProvider:\n",
    "\n",
    "    def __init__(self, scope: str):\n",
    "        self.scope = scope\n",
    "\n",
    "    def greater_than_half(self) -> bool:\n",
    "        return self.scope > 0.5"
   ]
  },
  {
   "cell_type": "code",
   "execution_count": 12,
   "metadata": {},
   "outputs": [],
   "source": [
    "class MicroService:\n",
    "\n",
    "    def __init__(self, api: ApiService):\n",
    "        self.api = api\n",
    "\n",
    "    def scope_sum(self, id: str) -> float:\n",
    "        return sum(self.api.get_scopes(id))\n",
    "    "
   ]
  },
  {
   "cell_type": "code",
   "execution_count": 13,
   "metadata": {},
   "outputs": [
    {
     "data": {
      "text/plain": [
       "0.8423994342485741"
      ]
     },
     "execution_count": 13,
     "metadata": {},
     "output_type": "execute_result"
    }
   ],
   "source": [
    "micros = MicroService(ApiService(\"123\"))\n",
    "micros.scope_sum(\"id\")"
   ]
  },
  {
   "cell_type": "code",
   "execution_count": 16,
   "metadata": {},
   "outputs": [],
   "source": [
    "data = { \"ids\": [ \"123456\", \"98765\"] }\n",
    "\n",
    "# api_response = { \"scope_sums\" : { \"123456\" : 3, \"98765\" : 6 } , \"evic\" : { \"123456\": { \"currency\" : \"usd\", \"val\": 999999999.0 }, \"98765\" : { \"currency\" : \"gbp\" , \"val\": 999999.0 } } }\n",
    "\n",
    "api_response = {  \"123456\" : { \"scope_sum\": 3, \"evic\": { \"currency\" : \"usd\", \"val\": 999999999.0 } }, \"98765\" :  { \"scope_sum\": 6 , \"evic\": { \"currency\" : \"gbp\" , \"val\": 999999.0 } } }"
   ]
  },
  {
   "cell_type": "code",
   "execution_count": null,
   "metadata": {},
   "outputs": [],
   "source": [
    "class ScopeEvicData:\n",
    "\n",
    "    def __init__(self):\n",
    "        p"
   ]
  }
 ],
 "metadata": {
  "kernelspec": {
   "display_name": "Python 3",
   "language": "python",
   "name": "python3"
  },
  "language_info": {
   "codemirror_mode": {
    "name": "ipython",
    "version": 3
   },
   "file_extension": ".py",
   "mimetype": "text/x-python",
   "name": "python",
   "nbconvert_exporter": "python",
   "pygments_lexer": "ipython3",
   "version": "3.10.4"
  },
  "orig_nbformat": 4,
  "vscode": {
   "interpreter": {
    "hash": "3ad933181bd8a04b432d3370b9dc3b0662ad032c4dfaa4e4f1596c548f763858"
   }
  }
 },
 "nbformat": 4,
 "nbformat_minor": 2
}
